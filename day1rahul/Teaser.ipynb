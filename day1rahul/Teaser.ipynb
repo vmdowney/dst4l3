{
 "metadata": {
  "name": "",
  "signature": "sha256:f8ab80109186001a2ac664174dbcc4cec762c82dd4739abeae8aa491c4dd346c"
 },
 "nbformat": 3,
 "nbformat_minor": 0,
 "worksheets": [
  {
   "cells": [
    {
     "cell_type": "markdown",
     "metadata": {},
     "source": [
      "#Teaser\n",
      "\n",
      "This is my first note.\n",
      "\n",
      ">This is a quote.\n",
      "\n",
      "    Hello world\n",
      "    \n",
      "* first item\n",
      "* second item\n",
      "\n",
      "\n",
      "1. first item\n",
      "2. second item\n",
      "\n",
      "http://www.google.com\n",
      "\n",
      "[hello World](http://www.google.com)\n",
      "\n",
      "![Harvard bookplate 1932](http://blogs.law.harvard.edu/houghtonmodern/files/2013/05/stolen-300x197.jpg \"Harvard College bookplate 1932\")\n",
      "\n",
      "Here is something in `typewriter` text.\n",
      "\n",
      "```python\n",
      "\n",
      "def f():\n",
      "    return None\n",
      "\n",
      "```\n",
      "\n",
      "Let's say that $\\alpha=3$\n",
      "\n",
      "Then we find that:\n",
      "\n",
      "$$  \\alpha + 1 = 4.$$\n",
      "\n"
     ]
    },
    {
     "cell_type": "code",
     "collapsed": false,
     "input": [
      "%matplotlib inline\n",
      "import numpy as np\n",
      "import matplotlib.pyplot as plt\n",
      "import pandas as pd\n",
      "import seaborn as sns\n",
      "pd.set_option('display.width', 500)\n",
      "pd.set_option('display.max_columns', 100)"
     ],
     "language": "python",
     "metadata": {},
     "outputs": [],
     "prompt_number": 173
    },
    {
     "cell_type": "markdown",
     "metadata": {},
     "source": [
      "Get Cheatsheet:\n",
      "\n",
      "from https://drive.google.com/folderview?id=0ByIrJAE4KMTtaGhRcXkxNHhmY2M&usp=sharing\n"
     ]
    },
    {
     "cell_type": "code",
     "collapsed": false,
     "input": [
      "df=pd.read_csv('all.csv', header=None,\n",
      "               names=['rating', 'review_count', 'isbn', 'booktype','author_url', 'year', 'genre_urls', 'dir','rating_count', 'name'],\n",
      ")\n",
      "df.head()"
     ],
     "language": "python",
     "metadata": {},
     "outputs": [
      {
       "html": [
        "<div style=\"max-height:1000px;max-width:1500px;overflow:auto;\">\n",
        "<table border=\"1\" class=\"dataframe\">\n",
        "  <thead>\n",
        "    <tr style=\"text-align: right;\">\n",
        "      <th></th>\n",
        "      <th>rating</th>\n",
        "      <th>review_count</th>\n",
        "      <th>isbn</th>\n",
        "      <th>booktype</th>\n",
        "      <th>author_url</th>\n",
        "      <th>year</th>\n",
        "      <th>genre_urls</th>\n",
        "      <th>dir</th>\n",
        "      <th>rating_count</th>\n",
        "      <th>name</th>\n",
        "    </tr>\n",
        "  </thead>\n",
        "  <tbody>\n",
        "    <tr>\n",
        "      <th>0</th>\n",
        "      <td> 4.40</td>\n",
        "      <td> 136455</td>\n",
        "      <td> 0439023483</td>\n",
        "      <td> good_reads:book</td>\n",
        "      <td> https://www.goodreads.com/author/show/153394.S...</td>\n",
        "      <td> 2008</td>\n",
        "      <td> /genres/young-adult|/genres/science-fiction|/g...</td>\n",
        "      <td>               dir01/2767052-the-hunger-games.html</td>\n",
        "      <td> 2958974</td>\n",
        "      <td>           The Hunger Games (The Hunger Games, #1)</td>\n",
        "    </tr>\n",
        "    <tr>\n",
        "      <th>1</th>\n",
        "      <td> 4.41</td>\n",
        "      <td>  16648</td>\n",
        "      <td> 0439358078</td>\n",
        "      <td> good_reads:book</td>\n",
        "      <td> https://www.goodreads.com/author/show/1077326....</td>\n",
        "      <td> 2003</td>\n",
        "      <td> /genres/fantasy|/genres/young-adult|/genres/fi...</td>\n",
        "      <td> dir01/2.Harry_Potter_and_the_Order_of_the_Phoe...</td>\n",
        "      <td> 1284478</td>\n",
        "      <td> Harry Potter and the Order of the Phoenix (Har...</td>\n",
        "    </tr>\n",
        "    <tr>\n",
        "      <th>2</th>\n",
        "      <td> 3.56</td>\n",
        "      <td>  85746</td>\n",
        "      <td> 0316015849</td>\n",
        "      <td> good_reads:book</td>\n",
        "      <td> https://www.goodreads.com/author/show/941441.S...</td>\n",
        "      <td> 2005</td>\n",
        "      <td> /genres/young-adult|/genres/fantasy|/genres/ro...</td>\n",
        "      <td>                         dir01/41865.Twilight.html</td>\n",
        "      <td> 2579564</td>\n",
        "      <td>                           Twilight (Twilight, #1)</td>\n",
        "    </tr>\n",
        "    <tr>\n",
        "      <th>3</th>\n",
        "      <td> 4.23</td>\n",
        "      <td>  47906</td>\n",
        "      <td> 0061120081</td>\n",
        "      <td> good_reads:book</td>\n",
        "      <td> https://www.goodreads.com/author/show/1825.Har...</td>\n",
        "      <td> 1960</td>\n",
        "      <td> /genres/classics|/genres/fiction|/genres/histo...</td>\n",
        "      <td>             dir01/2657.To_Kill_a_Mockingbird.html</td>\n",
        "      <td> 2078123</td>\n",
        "      <td>                             To Kill a Mockingbird</td>\n",
        "    </tr>\n",
        "    <tr>\n",
        "      <th>4</th>\n",
        "      <td> 4.23</td>\n",
        "      <td>  34772</td>\n",
        "      <td> 0679783261</td>\n",
        "      <td> good_reads:book</td>\n",
        "      <td> https://www.goodreads.com/author/show/1265.Jan...</td>\n",
        "      <td> 1813</td>\n",
        "      <td> /genres/classics|/genres/fiction|/genres/roman...</td>\n",
        "      <td>               dir01/1885.Pride_and_Prejudice.html</td>\n",
        "      <td> 1388992</td>\n",
        "      <td>                               Pride and Prejudice</td>\n",
        "    </tr>\n",
        "  </tbody>\n",
        "</table>\n",
        "</div>"
       ],
       "metadata": {},
       "output_type": "pyout",
       "prompt_number": 174,
       "text": [
        "   rating review_count        isbn         booktype                                         author_url  year                                         genre_urls                                                dir rating_count                                               name\n",
        "0    4.40       136455  0439023483  good_reads:book  https://www.goodreads.com/author/show/153394.S...  2008  /genres/young-adult|/genres/science-fiction|/g...                dir01/2767052-the-hunger-games.html      2958974            The Hunger Games (The Hunger Games, #1)\n",
        "1    4.41        16648  0439358078  good_reads:book  https://www.goodreads.com/author/show/1077326....  2003  /genres/fantasy|/genres/young-adult|/genres/fi...  dir01/2.Harry_Potter_and_the_Order_of_the_Phoe...      1284478  Harry Potter and the Order of the Phoenix (Har...\n",
        "2    3.56        85746  0316015849  good_reads:book  https://www.goodreads.com/author/show/941441.S...  2005  /genres/young-adult|/genres/fantasy|/genres/ro...                          dir01/41865.Twilight.html      2579564                            Twilight (Twilight, #1)\n",
        "3    4.23        47906  0061120081  good_reads:book  https://www.goodreads.com/author/show/1825.Har...  1960  /genres/classics|/genres/fiction|/genres/histo...              dir01/2657.To_Kill_a_Mockingbird.html      2078123                              To Kill a Mockingbird\n",
        "4    4.23        34772  0679783261  good_reads:book  https://www.goodreads.com/author/show/1265.Jan...  1813  /genres/classics|/genres/fiction|/genres/roman...                dir01/1885.Pride_and_Prejudice.html      1388992                                Pride and Prejudice"
       ]
      }
     ],
     "prompt_number": 174
    },
    {
     "cell_type": "markdown",
     "metadata": {},
     "source": [
      "##Vectorization\n",
      "\n",
      "The python numerical stack is based on a concept called vectorization. You have seen this in spreadsheets where you manipulate an entire column.\n",
      "\n",
      "Whats the idea? It is that cpu's have some ability to carry out multiple things at one time, and we should use it to increase speed. But its also something else: there is a simplicity of notation. For example, see the following"
     ]
    },
    {
     "cell_type": "code",
     "collapsed": false,
     "input": [
      "a=[1,2,3,4,5]\n",
      "b=[1,2,3,4,5]\n",
      "print type(a)\n",
      "print \"=============\"\n",
      "for index,aitem in enumerate(a):\n",
      "    print a[index]*b[index]"
     ],
     "language": "python",
     "metadata": {},
     "outputs": [
      {
       "output_type": "stream",
       "stream": "stdout",
       "text": [
        "<type 'list'>\n",
        "=============\n",
        "1\n",
        "4\n",
        "9\n",
        "16\n",
        "25\n"
       ]
      }
     ],
     "prompt_number": 175
    },
    {
     "cell_type": "code",
     "collapsed": false,
     "input": [
      "a=np.array([1,2,3,4,5])\n",
      "print type(a)\n",
      "b=np.array([1,2,3,4,5])\n",
      "\n",
      "print a*b"
     ],
     "language": "python",
     "metadata": {},
     "outputs": [
      {
       "output_type": "stream",
       "stream": "stdout",
       "text": [
        "<type 'numpy.ndarray'>\n",
        "[ 1  4  9 16 25]\n"
       ]
      }
     ],
     "prompt_number": 176
    },
    {
     "cell_type": "code",
     "collapsed": false,
     "input": [
      "a+1\n",
      "# Broadcasting"
     ],
     "language": "python",
     "metadata": {},
     "outputs": [
      {
       "metadata": {},
       "output_type": "pyout",
       "prompt_number": 177,
       "text": [
        "array([2, 3, 4, 5, 6])"
       ]
      }
     ],
     "prompt_number": 177
    },
    {
     "cell_type": "markdown",
     "metadata": {},
     "source": [
      "##Pandas"
     ]
    },
    {
     "cell_type": "code",
     "collapsed": false,
     "input": [
      "df=pd.read_csv(\"all.csv\", header=None,\n",
      "               names=[\"rating\", 'review_count', 'isbn', 'booktype','author_url', 'year', 'genre_urls', 'dir','rating_count', 'name'],\n",
      ")\n",
      "df.head()"
     ],
     "language": "python",
     "metadata": {},
     "outputs": [
      {
       "html": [
        "<div style=\"max-height:1000px;max-width:1500px;overflow:auto;\">\n",
        "<table border=\"1\" class=\"dataframe\">\n",
        "  <thead>\n",
        "    <tr style=\"text-align: right;\">\n",
        "      <th></th>\n",
        "      <th>rating</th>\n",
        "      <th>review_count</th>\n",
        "      <th>isbn</th>\n",
        "      <th>booktype</th>\n",
        "      <th>author_url</th>\n",
        "      <th>year</th>\n",
        "      <th>genre_urls</th>\n",
        "      <th>dir</th>\n",
        "      <th>rating_count</th>\n",
        "      <th>name</th>\n",
        "    </tr>\n",
        "  </thead>\n",
        "  <tbody>\n",
        "    <tr>\n",
        "      <th>0</th>\n",
        "      <td> 4.40</td>\n",
        "      <td> 136455</td>\n",
        "      <td> 0439023483</td>\n",
        "      <td> good_reads:book</td>\n",
        "      <td> https://www.goodreads.com/author/show/153394.S...</td>\n",
        "      <td> 2008</td>\n",
        "      <td> /genres/young-adult|/genres/science-fiction|/g...</td>\n",
        "      <td>               dir01/2767052-the-hunger-games.html</td>\n",
        "      <td> 2958974</td>\n",
        "      <td>           The Hunger Games (The Hunger Games, #1)</td>\n",
        "    </tr>\n",
        "    <tr>\n",
        "      <th>1</th>\n",
        "      <td> 4.41</td>\n",
        "      <td>  16648</td>\n",
        "      <td> 0439358078</td>\n",
        "      <td> good_reads:book</td>\n",
        "      <td> https://www.goodreads.com/author/show/1077326....</td>\n",
        "      <td> 2003</td>\n",
        "      <td> /genres/fantasy|/genres/young-adult|/genres/fi...</td>\n",
        "      <td> dir01/2.Harry_Potter_and_the_Order_of_the_Phoe...</td>\n",
        "      <td> 1284478</td>\n",
        "      <td> Harry Potter and the Order of the Phoenix (Har...</td>\n",
        "    </tr>\n",
        "    <tr>\n",
        "      <th>2</th>\n",
        "      <td> 3.56</td>\n",
        "      <td>  85746</td>\n",
        "      <td> 0316015849</td>\n",
        "      <td> good_reads:book</td>\n",
        "      <td> https://www.goodreads.com/author/show/941441.S...</td>\n",
        "      <td> 2005</td>\n",
        "      <td> /genres/young-adult|/genres/fantasy|/genres/ro...</td>\n",
        "      <td>                         dir01/41865.Twilight.html</td>\n",
        "      <td> 2579564</td>\n",
        "      <td>                           Twilight (Twilight, #1)</td>\n",
        "    </tr>\n",
        "    <tr>\n",
        "      <th>3</th>\n",
        "      <td> 4.23</td>\n",
        "      <td>  47906</td>\n",
        "      <td> 0061120081</td>\n",
        "      <td> good_reads:book</td>\n",
        "      <td> https://www.goodreads.com/author/show/1825.Har...</td>\n",
        "      <td> 1960</td>\n",
        "      <td> /genres/classics|/genres/fiction|/genres/histo...</td>\n",
        "      <td>             dir01/2657.To_Kill_a_Mockingbird.html</td>\n",
        "      <td> 2078123</td>\n",
        "      <td>                             To Kill a Mockingbird</td>\n",
        "    </tr>\n",
        "    <tr>\n",
        "      <th>4</th>\n",
        "      <td> 4.23</td>\n",
        "      <td>  34772</td>\n",
        "      <td> 0679783261</td>\n",
        "      <td> good_reads:book</td>\n",
        "      <td> https://www.goodreads.com/author/show/1265.Jan...</td>\n",
        "      <td> 1813</td>\n",
        "      <td> /genres/classics|/genres/fiction|/genres/roman...</td>\n",
        "      <td>               dir01/1885.Pride_and_Prejudice.html</td>\n",
        "      <td> 1388992</td>\n",
        "      <td>                               Pride and Prejudice</td>\n",
        "    </tr>\n",
        "  </tbody>\n",
        "</table>\n",
        "</div>"
       ],
       "metadata": {},
       "output_type": "pyout",
       "prompt_number": 178,
       "text": [
        "   rating review_count        isbn         booktype                                         author_url  year                                         genre_urls                                                dir rating_count                                               name\n",
        "0    4.40       136455  0439023483  good_reads:book  https://www.goodreads.com/author/show/153394.S...  2008  /genres/young-adult|/genres/science-fiction|/g...                dir01/2767052-the-hunger-games.html      2958974            The Hunger Games (The Hunger Games, #1)\n",
        "1    4.41        16648  0439358078  good_reads:book  https://www.goodreads.com/author/show/1077326....  2003  /genres/fantasy|/genres/young-adult|/genres/fi...  dir01/2.Harry_Potter_and_the_Order_of_the_Phoe...      1284478  Harry Potter and the Order of the Phoenix (Har...\n",
        "2    3.56        85746  0316015849  good_reads:book  https://www.goodreads.com/author/show/941441.S...  2005  /genres/young-adult|/genres/fantasy|/genres/ro...                          dir01/41865.Twilight.html      2579564                            Twilight (Twilight, #1)\n",
        "3    4.23        47906  0061120081  good_reads:book  https://www.goodreads.com/author/show/1825.Har...  1960  /genres/classics|/genres/fiction|/genres/histo...              dir01/2657.To_Kill_a_Mockingbird.html      2078123                              To Kill a Mockingbird\n",
        "4    4.23        34772  0679783261  good_reads:book  https://www.goodreads.com/author/show/1265.Jan...  1813  /genres/classics|/genres/fiction|/genres/roman...                dir01/1885.Pride_and_Prejudice.html      1388992                                Pride and Prejudice"
       ]
      }
     ],
     "prompt_number": 178
    },
    {
     "cell_type": "markdown",
     "metadata": {},
     "source": [
      "Notice we have a table! A spreadsheet! And it indexed the rows. Lets see the types of the columns...\n",
      "\n",
      "![](files/pandastruct.png)"
     ]
    },
    {
     "cell_type": "code",
     "collapsed": false,
     "input": [
      "df.dtypes"
     ],
     "language": "python",
     "metadata": {},
     "outputs": [
      {
       "metadata": {},
       "output_type": "pyout",
       "prompt_number": 179,
       "text": [
        "rating          float64\n",
        "review_count     object\n",
        "isbn             object\n",
        "booktype         object\n",
        "author_url       object\n",
        "year            float64\n",
        "genre_urls       object\n",
        "dir              object\n",
        "rating_count     object\n",
        "name             object\n",
        "dtype: object"
       ]
      }
     ],
     "prompt_number": 179
    },
    {
     "cell_type": "code",
     "collapsed": false,
     "input": [
      "df.shape"
     ],
     "language": "python",
     "metadata": {},
     "outputs": [
      {
       "metadata": {},
       "output_type": "pyout",
       "prompt_number": 180,
       "text": [
        "(6000, 10)"
       ]
      }
     ],
     "prompt_number": 180
    },
    {
     "cell_type": "code",
     "collapsed": false,
     "input": [
      "df.columns"
     ],
     "language": "python",
     "metadata": {},
     "outputs": [
      {
       "metadata": {},
       "output_type": "pyout",
       "prompt_number": 181,
       "text": [
        "Index([u'rating', u'review_count', u'isbn', u'booktype', u'author_url', u'year', u'genre_urls', u'dir', u'rating_count', u'name'], dtype=object)"
       ]
      }
     ],
     "prompt_number": 181
    },
    {
     "cell_type": "code",
     "collapsed": false,
     "input": [
      "df.rating > 3.0 #mask\n"
     ],
     "language": "python",
     "metadata": {},
     "outputs": [
      {
       "metadata": {},
       "output_type": "pyout",
       "prompt_number": 182,
       "text": [
        "0     True\n",
        "1     True\n",
        "2     True\n",
        "3     True\n",
        "4     True\n",
        "5     True\n",
        "6     True\n",
        "7     True\n",
        "8     True\n",
        "9     True\n",
        "10    True\n",
        "11    True\n",
        "12    True\n",
        "13    True\n",
        "14    True\n",
        "...\n",
        "5985    True\n",
        "5986    True\n",
        "5987    True\n",
        "5988    True\n",
        "5989    True\n",
        "5990    True\n",
        "5991    True\n",
        "5992    True\n",
        "5993    True\n",
        "5994    True\n",
        "5995    True\n",
        "5996    True\n",
        "5997    True\n",
        "5998    True\n",
        "5999    True\n",
        "Name: rating, Length: 6000, dtype: bool"
       ]
      }
     ],
     "prompt_number": 182
    },
    {
     "cell_type": "code",
     "collapsed": false,
     "input": [
      "df[['rating','name']].head()"
     ],
     "language": "python",
     "metadata": {},
     "outputs": [
      {
       "html": [
        "<div style=\"max-height:1000px;max-width:1500px;overflow:auto;\">\n",
        "<table border=\"1\" class=\"dataframe\">\n",
        "  <thead>\n",
        "    <tr style=\"text-align: right;\">\n",
        "      <th></th>\n",
        "      <th>rating</th>\n",
        "      <th>name</th>\n",
        "    </tr>\n",
        "  </thead>\n",
        "  <tbody>\n",
        "    <tr>\n",
        "      <th>0</th>\n",
        "      <td> 4.40</td>\n",
        "      <td>           The Hunger Games (The Hunger Games, #1)</td>\n",
        "    </tr>\n",
        "    <tr>\n",
        "      <th>1</th>\n",
        "      <td> 4.41</td>\n",
        "      <td> Harry Potter and the Order of the Phoenix (Har...</td>\n",
        "    </tr>\n",
        "    <tr>\n",
        "      <th>2</th>\n",
        "      <td> 3.56</td>\n",
        "      <td>                           Twilight (Twilight, #1)</td>\n",
        "    </tr>\n",
        "    <tr>\n",
        "      <th>3</th>\n",
        "      <td> 4.23</td>\n",
        "      <td>                             To Kill a Mockingbird</td>\n",
        "    </tr>\n",
        "    <tr>\n",
        "      <th>4</th>\n",
        "      <td> 4.23</td>\n",
        "      <td>                               Pride and Prejudice</td>\n",
        "    </tr>\n",
        "  </tbody>\n",
        "</table>\n",
        "</div>"
       ],
       "metadata": {},
       "output_type": "pyout",
       "prompt_number": 183,
       "text": [
        "   rating                                               name\n",
        "0    4.40            The Hunger Games (The Hunger Games, #1)\n",
        "1    4.41  Harry Potter and the Order of the Phoenix (Har...\n",
        "2    3.56                            Twilight (Twilight, #1)\n",
        "3    4.23                              To Kill a Mockingbird\n",
        "4    4.23                                Pride and Prejudice"
       ]
      }
     ],
     "prompt_number": 183
    },
    {
     "cell_type": "code",
     "collapsed": false,
     "input": [
      "df[['rating', 'name']][df.rating > 3.0].head() "
     ],
     "language": "python",
     "metadata": {},
     "outputs": [
      {
       "html": [
        "<div style=\"max-height:1000px;max-width:1500px;overflow:auto;\">\n",
        "<table border=\"1\" class=\"dataframe\">\n",
        "  <thead>\n",
        "    <tr style=\"text-align: right;\">\n",
        "      <th></th>\n",
        "      <th>rating</th>\n",
        "      <th>name</th>\n",
        "    </tr>\n",
        "  </thead>\n",
        "  <tbody>\n",
        "    <tr>\n",
        "      <th>0</th>\n",
        "      <td> 4.40</td>\n",
        "      <td>           The Hunger Games (The Hunger Games, #1)</td>\n",
        "    </tr>\n",
        "    <tr>\n",
        "      <th>1</th>\n",
        "      <td> 4.41</td>\n",
        "      <td> Harry Potter and the Order of the Phoenix (Har...</td>\n",
        "    </tr>\n",
        "    <tr>\n",
        "      <th>2</th>\n",
        "      <td> 3.56</td>\n",
        "      <td>                           Twilight (Twilight, #1)</td>\n",
        "    </tr>\n",
        "    <tr>\n",
        "      <th>3</th>\n",
        "      <td> 4.23</td>\n",
        "      <td>                             To Kill a Mockingbird</td>\n",
        "    </tr>\n",
        "    <tr>\n",
        "      <th>4</th>\n",
        "      <td> 4.23</td>\n",
        "      <td>                               Pride and Prejudice</td>\n",
        "    </tr>\n",
        "  </tbody>\n",
        "</table>\n",
        "</div>"
       ],
       "metadata": {},
       "output_type": "pyout",
       "prompt_number": 185,
       "text": [
        "   rating                                               name\n",
        "0    4.40            The Hunger Games (The Hunger Games, #1)\n",
        "1    4.41  Harry Potter and the Order of the Phoenix (Har...\n",
        "2    3.56                            Twilight (Twilight, #1)\n",
        "3    4.23                              To Kill a Mockingbird\n",
        "4    4.23                                Pride and Prejudice"
       ]
      }
     ],
     "prompt_number": 185
    },
    {
     "cell_type": "code",
     "collapsed": false,
     "input": [
      "dfnew = df[['rating','name','rating_count']]\n",
      "dfnew.head()"
     ],
     "language": "python",
     "metadata": {},
     "outputs": [
      {
       "html": [
        "<div style=\"max-height:1000px;max-width:1500px;overflow:auto;\">\n",
        "<table border=\"1\" class=\"dataframe\">\n",
        "  <thead>\n",
        "    <tr style=\"text-align: right;\">\n",
        "      <th></th>\n",
        "      <th>rating</th>\n",
        "      <th>name</th>\n",
        "      <th>rating_count</th>\n",
        "    </tr>\n",
        "  </thead>\n",
        "  <tbody>\n",
        "    <tr>\n",
        "      <th>0</th>\n",
        "      <td> 4.40</td>\n",
        "      <td>           The Hunger Games (The Hunger Games, #1)</td>\n",
        "      <td> 2958974</td>\n",
        "    </tr>\n",
        "    <tr>\n",
        "      <th>1</th>\n",
        "      <td> 4.41</td>\n",
        "      <td> Harry Potter and the Order of the Phoenix (Har...</td>\n",
        "      <td> 1284478</td>\n",
        "    </tr>\n",
        "    <tr>\n",
        "      <th>2</th>\n",
        "      <td> 3.56</td>\n",
        "      <td>                           Twilight (Twilight, #1)</td>\n",
        "      <td> 2579564</td>\n",
        "    </tr>\n",
        "    <tr>\n",
        "      <th>3</th>\n",
        "      <td> 4.23</td>\n",
        "      <td>                             To Kill a Mockingbird</td>\n",
        "      <td> 2078123</td>\n",
        "    </tr>\n",
        "    <tr>\n",
        "      <th>4</th>\n",
        "      <td> 4.23</td>\n",
        "      <td>                               Pride and Prejudice</td>\n",
        "      <td> 1388992</td>\n",
        "    </tr>\n",
        "  </tbody>\n",
        "</table>\n",
        "</div>"
       ],
       "metadata": {},
       "output_type": "pyout",
       "prompt_number": 186,
       "text": [
        "   rating                                               name rating_count\n",
        "0    4.40            The Hunger Games (The Hunger Games, #1)      2958974\n",
        "1    4.41  Harry Potter and the Order of the Phoenix (Har...      1284478\n",
        "2    3.56                            Twilight (Twilight, #1)      2579564\n",
        "3    4.23                              To Kill a Mockingbird      2078123\n",
        "4    4.23                                Pride and Prejudice      1388992"
       ]
      }
     ],
     "prompt_number": 186
    },
    {
     "cell_type": "code",
     "collapsed": false,
     "input": [
      "dfnew.dtypes"
     ],
     "language": "python",
     "metadata": {},
     "outputs": [
      {
       "metadata": {},
       "output_type": "pyout",
       "prompt_number": 187,
       "text": [
        "rating          float64\n",
        "name             object\n",
        "rating_count     object\n",
        "dtype: object"
       ]
      }
     ],
     "prompt_number": 187
    },
    {
     "cell_type": "code",
     "collapsed": false,
     "input": [
      "np.sum(dfnew.rating_count=='None') #There are two ratings that are None"
     ],
     "language": "python",
     "metadata": {},
     "outputs": [
      {
       "metadata": {},
       "output_type": "pyout",
       "prompt_number": 190,
       "text": [
        "2"
       ]
      }
     ],
     "prompt_number": 190
    },
    {
     "cell_type": "code",
     "collapsed": false,
     "input": [
      "dfnew[df.rating_count=='None'] #These do not even have names"
     ],
     "language": "python",
     "metadata": {},
     "outputs": [
      {
       "html": [
        "<div style=\"max-height:1000px;max-width:1500px;overflow:auto;\">\n",
        "<table border=\"1\" class=\"dataframe\">\n",
        "  <thead>\n",
        "    <tr style=\"text-align: right;\">\n",
        "      <th></th>\n",
        "      <th>rating</th>\n",
        "      <th>name</th>\n",
        "      <th>rating_count</th>\n",
        "    </tr>\n",
        "  </thead>\n",
        "  <tbody>\n",
        "    <tr>\n",
        "      <th>3643</th>\n",
        "      <td>NaN</td>\n",
        "      <td> None</td>\n",
        "      <td> None</td>\n",
        "    </tr>\n",
        "    <tr>\n",
        "      <th>5282</th>\n",
        "      <td>NaN</td>\n",
        "      <td> None</td>\n",
        "      <td> None</td>\n",
        "    </tr>\n",
        "  </tbody>\n",
        "</table>\n",
        "</div>"
       ],
       "metadata": {},
       "output_type": "pyout",
       "prompt_number": 192,
       "text": [
        "      rating  name rating_count\n",
        "3643     NaN  None         None\n",
        "5282     NaN  None         None"
       ]
      }
     ],
     "prompt_number": 192
    },
    {
     "cell_type": "code",
     "collapsed": false,
     "input": [
      "dfnew=dfnew[df.rating_count!='None']"
     ],
     "language": "python",
     "metadata": {},
     "outputs": [],
     "prompt_number": 196
    },
    {
     "cell_type": "code",
     "collapsed": false,
     "input": [
      "dfnew.rating_count = dfnew.rating_count.astype(np.int64)\n",
      "dfnew.dtypes"
     ],
     "language": "python",
     "metadata": {},
     "outputs": [
      {
       "metadata": {},
       "output_type": "pyout",
       "prompt_number": 199,
       "text": [
        "rating          float64\n",
        "name             object\n",
        "rating_count      int64\n",
        "dtype: object"
       ]
      }
     ],
     "prompt_number": 199
    },
    {
     "cell_type": "code",
     "collapsed": false,
     "input": [
      "dftemp = dfnew[(dfnew.rating > 3.0) & (dfnew.rating_count > 10000)]\n",
      "dftemp[dftemp.rating_count < 10000]"
     ],
     "language": "python",
     "metadata": {},
     "outputs": [
      {
       "html": [
        "<div style=\"max-height:1000px;max-width:1500px;overflow:auto;\">\n",
        "<table border=\"1\" class=\"dataframe\">\n",
        "  <tbody>\n",
        "    <tr>\n",
        "      <td>Int64Index([], dtype=int64)</td>\n",
        "      <td>Empty DataFrame</td>\n",
        "    </tr>\n",
        "  </tbody>\n",
        "</table>\n",
        "</div>"
       ],
       "metadata": {},
       "output_type": "pyout",
       "prompt_number": 207,
       "text": [
        "Empty DataFrame\n",
        "Columns: [rating, name, rating_count]\n",
        "Index: []"
       ]
      }
     ],
     "prompt_number": 207
    },
    {
     "cell_type": "code",
     "collapsed": false,
     "input": [
      "dftemp.sort(['rating'],ascending=False).head(20)"
     ],
     "language": "python",
     "metadata": {},
     "outputs": [
      {
       "html": [
        "<div style=\"max-height:1000px;max-width:1500px;overflow:auto;\">\n",
        "<table border=\"1\" class=\"dataframe\">\n",
        "  <thead>\n",
        "    <tr style=\"text-align: right;\">\n",
        "      <th></th>\n",
        "      <th>rating</th>\n",
        "      <th>name</th>\n",
        "      <th>rating_count</th>\n",
        "    </tr>\n",
        "  </thead>\n",
        "  <tbody>\n",
        "    <tr>\n",
        "      <th>249 </th>\n",
        "      <td> 4.80</td>\n",
        "      <td>                    The Complete Calvin and Hobbes</td>\n",
        "      <td>  22674</td>\n",
        "    </tr>\n",
        "    <tr>\n",
        "      <th>1595</th>\n",
        "      <td> 4.76</td>\n",
        "      <td>    Words of Radiance (The Stormlight Archive, #2)</td>\n",
        "      <td>  32304</td>\n",
        "    </tr>\n",
        "    <tr>\n",
        "      <th>4944</th>\n",
        "      <td> 4.75</td>\n",
        "      <td>                                 Calvin and Hobbes</td>\n",
        "      <td>  18637</td>\n",
        "    </tr>\n",
        "    <tr>\n",
        "      <th>1551</th>\n",
        "      <td> 4.73</td>\n",
        "      <td>          Harry Potter Boxset (Harry Potter, #1-7)</td>\n",
        "      <td> 141954</td>\n",
        "    </tr>\n",
        "    <tr>\n",
        "      <th>3301</th>\n",
        "      <td> 4.71</td>\n",
        "      <td> Harry Potter Hardcover Boxed Set, Books 1-6 (H...</td>\n",
        "      <td>  20354</td>\n",
        "    </tr>\n",
        "    <tr>\n",
        "      <th>3207</th>\n",
        "      <td> 4.71</td>\n",
        "      <td>               The Indispensable Calvin and Hobbes</td>\n",
        "      <td>  12709</td>\n",
        "    </tr>\n",
        "    <tr>\n",
        "      <th>1327</th>\n",
        "      <td> 4.70</td>\n",
        "      <td>               The Authoritative Calvin And Hobbes</td>\n",
        "      <td>  13863</td>\n",
        "    </tr>\n",
        "    <tr>\n",
        "      <th>4398</th>\n",
        "      <td> 4.67</td>\n",
        "      <td>                                 Calvin and Hobbes</td>\n",
        "      <td>  15009</td>\n",
        "    </tr>\n",
        "    <tr>\n",
        "      <th>2466</th>\n",
        "      <td> 4.66</td>\n",
        "      <td>                                  Jesus the Christ</td>\n",
        "      <td>  14310</td>\n",
        "    </tr>\n",
        "    <tr>\n",
        "      <th>2437</th>\n",
        "      <td> 4.65</td>\n",
        "      <td>                       A Song of Ice and Fire #1-4</td>\n",
        "      <td>  23683</td>\n",
        "    </tr>\n",
        "    <tr>\n",
        "      <th>1385</th>\n",
        "      <td> 4.64</td>\n",
        "      <td>                            Standing for Something</td>\n",
        "      <td>  11087</td>\n",
        "    </tr>\n",
        "    <tr>\n",
        "      <th>935 </th>\n",
        "      <td> 4.64</td>\n",
        "      <td> Vampire Academy Collection (Vampire Academy, #...</td>\n",
        "      <td>  21743</td>\n",
        "    </tr>\n",
        "    <tr>\n",
        "      <th>2281</th>\n",
        "      <td> 4.64</td>\n",
        "      <td>                   The Essential Calvin and Hobbes</td>\n",
        "      <td>  67279</td>\n",
        "    </tr>\n",
        "    <tr>\n",
        "      <th>4452</th>\n",
        "      <td> 4.63</td>\n",
        "      <td>                Heir of Fire (Throne of Glass, #3)</td>\n",
        "      <td>  10076</td>\n",
        "    </tr>\n",
        "    <tr>\n",
        "      <th>1484</th>\n",
        "      <td> 4.63</td>\n",
        "      <td>  The Harry Potter Collection (Harry Potter, #1-4)</td>\n",
        "      <td>  26005</td>\n",
        "    </tr>\n",
        "    <tr>\n",
        "      <th>1500</th>\n",
        "      <td> 4.63</td>\n",
        "      <td>      The Calvin and Hobbes Tenth Anniversary Book</td>\n",
        "      <td>  42833</td>\n",
        "    </tr>\n",
        "    <tr>\n",
        "      <th>3447</th>\n",
        "      <td> 4.62</td>\n",
        "      <td>                  Crashed (The Driven Trilogy, #3)</td>\n",
        "      <td>  18925</td>\n",
        "    </tr>\n",
        "    <tr>\n",
        "      <th>2463</th>\n",
        "      <td> 4.61</td>\n",
        "      <td> A Song of Ice and Fire - A Game of Thrones, A ...</td>\n",
        "      <td>  17216</td>\n",
        "    </tr>\n",
        "    <tr>\n",
        "      <th>2408</th>\n",
        "      <td> 4.61</td>\n",
        "      <td>  The Blood of Olympus (The Heroes of Olympus, #5)</td>\n",
        "      <td>  10640</td>\n",
        "    </tr>\n",
        "    <tr>\n",
        "      <th>2233</th>\n",
        "      <td> 4.61</td>\n",
        "      <td>                                 Calvin and Hobbes</td>\n",
        "      <td>  80791</td>\n",
        "    </tr>\n",
        "  </tbody>\n",
        "</table>\n",
        "</div>"
       ],
       "metadata": {},
       "output_type": "pyout",
       "prompt_number": 208,
       "text": [
        "      rating                                               name  rating_count\n",
        "249     4.80                     The Complete Calvin and Hobbes         22674\n",
        "1595    4.76     Words of Radiance (The Stormlight Archive, #2)         32304\n",
        "4944    4.75                                  Calvin and Hobbes         18637\n",
        "1551    4.73           Harry Potter Boxset (Harry Potter, #1-7)        141954\n",
        "3301    4.71  Harry Potter Hardcover Boxed Set, Books 1-6 (H...         20354\n",
        "3207    4.71                The Indispensable Calvin and Hobbes         12709\n",
        "1327    4.70                The Authoritative Calvin And Hobbes         13863\n",
        "4398    4.67                                  Calvin and Hobbes         15009\n",
        "2466    4.66                                   Jesus the Christ         14310\n",
        "2437    4.65                        A Song of Ice and Fire #1-4         23683\n",
        "1385    4.64                             Standing for Something         11087\n",
        "935     4.64  Vampire Academy Collection (Vampire Academy, #...         21743\n",
        "2281    4.64                    The Essential Calvin and Hobbes         67279\n",
        "4452    4.63                 Heir of Fire (Throne of Glass, #3)         10076\n",
        "1484    4.63   The Harry Potter Collection (Harry Potter, #1-4)         26005\n",
        "1500    4.63       The Calvin and Hobbes Tenth Anniversary Book         42833\n",
        "3447    4.62                   Crashed (The Driven Trilogy, #3)         18925\n",
        "2463    4.61  A Song of Ice and Fire - A Game of Thrones, A ...         17216\n",
        "2408    4.61   The Blood of Olympus (The Heroes of Olympus, #5)         10640\n",
        "2233    4.61                                  Calvin and Hobbes         80791"
       ]
      }
     ],
     "prompt_number": 208
    },
    {
     "cell_type": "code",
     "collapsed": false,
     "input": [
      "type(df.rating), type(df)"
     ],
     "language": "python",
     "metadata": {},
     "outputs": [
      {
       "metadata": {},
       "output_type": "pyout",
       "prompt_number": 209,
       "text": [
        "(pandas.core.series.Series, pandas.core.frame.DataFrame)"
       ]
      }
     ],
     "prompt_number": 209
    },
    {
     "cell_type": "code",
     "collapsed": false,
     "input": [
      "100*np.mean(df.rating < 3.0) #Fraction of ratings less than 3; multiplied by 100 to make a fraction"
     ],
     "language": "python",
     "metadata": {},
     "outputs": [
      {
       "metadata": {},
       "output_type": "pyout",
       "prompt_number": 211,
       "text": [
        "0.066666666666666666"
       ]
      }
     ],
     "prompt_number": 211
    },
    {
     "cell_type": "code",
     "collapsed": false,
     "input": [
      "df[df.rating > 4.5].head()"
     ],
     "language": "python",
     "metadata": {},
     "outputs": [
      {
       "html": [
        "<div style=\"max-height:1000px;max-width:1500px;overflow:auto;\">\n",
        "<table border=\"1\" class=\"dataframe\">\n",
        "  <thead>\n",
        "    <tr style=\"text-align: right;\">\n",
        "      <th></th>\n",
        "      <th>rating</th>\n",
        "      <th>review_count</th>\n",
        "      <th>isbn</th>\n",
        "      <th>booktype</th>\n",
        "      <th>author_url</th>\n",
        "      <th>year</th>\n",
        "      <th>genre_urls</th>\n",
        "      <th>dir</th>\n",
        "      <th>rating_count</th>\n",
        "      <th>name</th>\n",
        "    </tr>\n",
        "  </thead>\n",
        "  <tbody>\n",
        "    <tr>\n",
        "      <th>17 </th>\n",
        "      <td> 4.58</td>\n",
        "      <td>  1314</td>\n",
        "      <td> 0345538374</td>\n",
        "      <td> good_reads:book</td>\n",
        "      <td> https://www.goodreads.com/author/show/656983.J...</td>\n",
        "      <td> 1973</td>\n",
        "      <td> /genres/fantasy|/genres/classics|/genres/scien...</td>\n",
        "      <td>      dir01/30.J_R_R_Tolkien_4_Book_Boxed_Set.html</td>\n",
        "      <td>  68495</td>\n",
        "      <td>                   J.R.R. Tolkien 4-Book Boxed Set</td>\n",
        "    </tr>\n",
        "    <tr>\n",
        "      <th>162</th>\n",
        "      <td> 4.55</td>\n",
        "      <td> 15777</td>\n",
        "      <td> 075640407X</td>\n",
        "      <td> good_reads:book</td>\n",
        "      <td> https://www.goodreads.com/author/show/108424.P...</td>\n",
        "      <td> 2007</td>\n",
        "      <td>                   /genres/fantasy|/genres/fiction</td>\n",
        "      <td>            dir02/186074.The_Name_of_the_Wind.html</td>\n",
        "      <td> 210018</td>\n",
        "      <td> The Name of the Wind (The Kingkiller Chronicle...</td>\n",
        "    </tr>\n",
        "    <tr>\n",
        "      <th>222</th>\n",
        "      <td> 4.53</td>\n",
        "      <td> 15256</td>\n",
        "      <td> 055357342X</td>\n",
        "      <td> good_reads:book</td>\n",
        "      <td> https://www.goodreads.com/author/show/346732.G...</td>\n",
        "      <td> 2000</td>\n",
        "      <td> /genres/fantasy|/genres/fiction|/genres/fantas...</td>\n",
        "      <td>                dir03/62291.A_Storm_of_Swords.html</td>\n",
        "      <td> 327992</td>\n",
        "      <td>    A Storm of Swords (A Song of Ice and Fire, #3)</td>\n",
        "    </tr>\n",
        "    <tr>\n",
        "      <th>242</th>\n",
        "      <td> 4.53</td>\n",
        "      <td>  5404</td>\n",
        "      <td> 0545265355</td>\n",
        "      <td> good_reads:book</td>\n",
        "      <td> https://www.goodreads.com/author/show/153394.S...</td>\n",
        "      <td> 2010</td>\n",
        "      <td> /genres/young-adult|/genres/fiction|/genres/fa...</td>\n",
        "      <td> dir03/7938275-the-hunger-games-trilogy-boxset....</td>\n",
        "      <td> 102330</td>\n",
        "      <td> The Hunger Games Trilogy Boxset (The Hunger Ga...</td>\n",
        "    </tr>\n",
        "    <tr>\n",
        "      <th>249</th>\n",
        "      <td> 4.80</td>\n",
        "      <td>   644</td>\n",
        "      <td> 0740748475</td>\n",
        "      <td> good_reads:book</td>\n",
        "      <td> https://www.goodreads.com/author/show/13778.Bi...</td>\n",
        "      <td> 2005</td>\n",
        "      <td> /genres/sequential-art|/genres/comics|/genres/...</td>\n",
        "      <td>   dir03/24812.The_Complete_Calvin_and_Hobbes.html</td>\n",
        "      <td>  22674</td>\n",
        "      <td>                    The Complete Calvin and Hobbes</td>\n",
        "    </tr>\n",
        "  </tbody>\n",
        "</table>\n",
        "</div>"
       ],
       "metadata": {},
       "output_type": "pyout",
       "prompt_number": 213,
       "text": [
        "     rating review_count        isbn         booktype                                         author_url  year                                         genre_urls                                                dir rating_count                                               name\n",
        "17     4.58         1314  0345538374  good_reads:book  https://www.goodreads.com/author/show/656983.J...  1973  /genres/fantasy|/genres/classics|/genres/scien...       dir01/30.J_R_R_Tolkien_4_Book_Boxed_Set.html        68495                    J.R.R. Tolkien 4-Book Boxed Set\n",
        "162    4.55        15777  075640407X  good_reads:book  https://www.goodreads.com/author/show/108424.P...  2007                    /genres/fantasy|/genres/fiction             dir02/186074.The_Name_of_the_Wind.html       210018  The Name of the Wind (The Kingkiller Chronicle...\n",
        "222    4.53        15256  055357342X  good_reads:book  https://www.goodreads.com/author/show/346732.G...  2000  /genres/fantasy|/genres/fiction|/genres/fantas...                 dir03/62291.A_Storm_of_Swords.html       327992     A Storm of Swords (A Song of Ice and Fire, #3)\n",
        "242    4.53         5404  0545265355  good_reads:book  https://www.goodreads.com/author/show/153394.S...  2010  /genres/young-adult|/genres/fiction|/genres/fa...  dir03/7938275-the-hunger-games-trilogy-boxset....       102330  The Hunger Games Trilogy Boxset (The Hunger Ga...\n",
        "249    4.80          644  0740748475  good_reads:book  https://www.goodreads.com/author/show/13778.Bi...  2005  /genres/sequential-art|/genres/comics|/genres/...    dir03/24812.The_Complete_Calvin_and_Hobbes.html        22674                     The Complete Calvin and Hobbes"
       ]
      }
     ],
     "prompt_number": 213
    },
    {
     "cell_type": "code",
     "collapsed": false,
     "input": [
      "ratingseries=df.rating[df.rating.notnull()]\n",
      "ratingseries"
     ],
     "language": "python",
     "metadata": {},
     "outputs": [
      {
       "metadata": {},
       "output_type": "pyout",
       "prompt_number": 214,
       "text": [
        "0     4.40\n",
        "1     4.41\n",
        "2     3.56\n",
        "3     4.23\n",
        "4     4.23\n",
        "5     4.25\n",
        "6     4.22\n",
        "7     4.38\n",
        "8     3.79\n",
        "9     4.18\n",
        "10    4.03\n",
        "11    3.72\n",
        "12    4.36\n",
        "13    4.05\n",
        "14    3.72\n",
        "...\n",
        "5985    3.61\n",
        "5986    4.06\n",
        "5987    4.26\n",
        "5988    4.34\n",
        "5989    3.36\n",
        "5990    4.12\n",
        "5991    4.20\n",
        "5992    3.89\n",
        "5993    4.09\n",
        "5994    4.37\n",
        "5995    4.17\n",
        "5996    3.99\n",
        "5997    3.78\n",
        "5998    3.91\n",
        "5999    4.35\n",
        "Name: rating, Length: 5998, dtype: float64"
       ]
      }
     ],
     "prompt_number": 214
    },
    {
     "cell_type": "code",
     "collapsed": false,
     "input": [
      "vals=ratingseries.values"
     ],
     "language": "python",
     "metadata": {},
     "outputs": [],
     "prompt_number": 215
    },
    {
     "cell_type": "code",
     "collapsed": false,
     "input": [
      "plt.hist(vals) #histogram plotted with output text"
     ],
     "language": "python",
     "metadata": {},
     "outputs": [
      {
       "metadata": {},
       "output_type": "pyout",
       "prompt_number": 219,
       "text": [
        "(array([  1.00000000e+00,   0.00000000e+00,   1.00000000e+00,\n",
        "         1.20000000e+01,   1.06000000e+02,   8.63000000e+02,\n",
        "         2.45700000e+03,   2.10300000e+03,   3.98000000e+02,\n",
        "         5.70000000e+01]),\n",
        " array([ 2. ,  2.3,  2.6,  2.9,  3.2,  3.5,  3.8,  4.1,  4.4,  4.7,  5. ]),\n",
        " <a list of 10 Patch objects>)"
       ]
      },
      {
       "metadata": {},
       "output_type": "display_data",
       "png": "[encoded data removed]",
       "text": [
        "<matplotlib.figure.Figure at 0x10ce79b10>"
       ]
      }
     ],
     "prompt_number": 219
    },
    {
     "cell_type": "code",
     "collapsed": false,
     "input": [
      "plt.hist(vals); #semicolon suppresses the output text"
     ],
     "language": "python",
     "metadata": {},
     "outputs": [
      {
       "metadata": {},
       "output_type": "pyout",
       "prompt_number": 220,
       "text": [
        "(array([  1.00000000e+00,   0.00000000e+00,   1.00000000e+00,\n",
        "         1.20000000e+01,   1.06000000e+02,   8.63000000e+02,\n",
        "         2.45700000e+03,   2.10300000e+03,   3.98000000e+02,\n",
        "         5.70000000e+01]),\n",
        " array([ 2. ,  2.3,  2.6,  2.9,  3.2,  3.5,  3.8,  4.1,  4.4,  4.7,  5. ]),\n",
        " <a list of 10 Patch objects>)"
       ]
      },
      {
       "metadata": {},
       "output_type": "display_data",
       "png": "[encoded data removed]",
       "text": [
        "<matplotlib.figure.Figure at 0x10f014610>"
       ]
      }
     ],
     "prompt_number": 220
    },
    {
     "cell_type": "code",
     "collapsed": false,
     "input": [
      "df.rating.hist(bins=100); #you can set the bins\n",
      "# Note: the background style is from Seaborn"
     ],
     "language": "python",
     "metadata": {},
     "outputs": [
      {
       "metadata": {},
       "output_type": "pyout",
       "prompt_number": 228,
       "text": [
        "<matplotlib.axes.AxesSubplot at 0x10fd02490>"
       ]
      },
      {
       "metadata": {},
       "output_type": "display_data",
       "png": "[encoded data removed]",
       "text": [
        "<matplotlib.figure.Figure at 0x10f561090>"
       ]
      }
     ],
     "prompt_number": 228
    },
    {
     "cell_type": "code",
     "collapsed": false,
     "input": [
      "print type(vals)\n",
      "vals"
     ],
     "language": "python",
     "metadata": {},
     "outputs": [
      {
       "output_type": "stream",
       "stream": "stdout",
       "text": [
        "<type 'numpy.ndarray'>\n"
       ]
      },
      {
       "metadata": {},
       "output_type": "pyout",
       "prompt_number": 229,
       "text": [
        "array([ 4.4 ,  4.41,  3.56, ...,  3.78,  3.91,  4.35])"
       ]
      }
     ],
     "prompt_number": 229
    },
    {
     "cell_type": "markdown",
     "metadata": {},
     "source": [
      "But one dosent have to"
     ]
    },
    {
     "cell_type": "code",
     "collapsed": false,
     "input": [
      "df.rating.hist();"
     ],
     "language": "python",
     "metadata": {},
     "outputs": [
      {
       "metadata": {},
       "output_type": "display_data",
       "png": "[encoded data removed]",
       "text": [
        "<matplotlib.figure.Figure at 0x10f15f250>"
       ]
      }
     ],
     "prompt_number": 230
    },
    {
     "cell_type": "code",
     "collapsed": false,
     "input": [
      "sns.set_context(\"notebook\") #poster, paper, notebook--poster is good for presentations\n",
      "meanrat=df.rating.mean()\n",
      "print meanrat, np.mean(df.rating), df.rating.median()\n",
      "with sns.axes_style(\"whitegrid\"): #whitegrid, ticks, dark, darkgrid\n",
      "    df.rating.hist(bins=50, alpha=0.4); #changed from 30 to 50\n",
      "    plt.axvline(meanrat, 0, 1.0, color='r', label='Mean') #line was 0, 0.75\n",
      "    plt.xlabel(\"average rating of book\") #x axis\n",
      "    plt.ylabel(\"Counts\") # y axis\n",
      "    plt.title(\"Ratings Histogram\") # title\n",
      "    plt.legend() #legend\n",
      "    #sns.despine() #taking away the spine from the grid"
     ],
     "language": "python",
     "metadata": {},
     "outputs": [
      {
       "output_type": "stream",
       "stream": "stdout",
       "text": [
        "4.04220073358 4.04220073358 4.05\n"
       ]
      },
      {
       "metadata": {},
       "output_type": "display_data",
       "png": "[encoded data removed]",
       "text": [
        "<matplotlib.figure.Figure at 0x10ff73e50>"
       ]
      }
     ],
     "prompt_number": 244
    },
    {
     "cell_type": "code",
     "collapsed": false,
     "input": [],
     "language": "python",
     "metadata": {},
     "outputs": [],
     "prompt_number": 157
    }
   ],
   "metadata": {}
  }
 ]
}